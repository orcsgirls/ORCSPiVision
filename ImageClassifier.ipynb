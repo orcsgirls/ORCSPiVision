{
 "cells": [
  {
   "cell_type": "code",
   "execution_count": 4,
   "id": "ee52ccb7",
   "metadata": {},
   "outputs": [],
   "source": [
    "from aiy.vision.inference import CameraInference\n",
    "from aiy.vision.models import image_classification\n",
    "from aiy.vision.streaming.server import StreamingServer\n",
    "from aiy.vision.streaming import svg\n",
    "from aiy.leds import Leds, Color\n",
    "from aiy.board import Board\n",
    "\n",
    "from picamera import PiCamera\n",
    "from IPython.display import Image, display, clear_output\n",
    "\n",
    "import contextlib\n",
    "import time"
   ]
  },
  {
   "cell_type": "markdown",
   "id": "6269c4f0",
   "metadata": {},
   "source": [
    "### Image classifier\n",
    "\n",
    "Remember if your joy detector is running, you need to turn it off using the commands\n",
    "\n",
    "```\n",
    "sudo systemctl stop joy_detection_demo.service\n",
    "```"
   ]
  },
  {
   "cell_type": "markdown",
   "id": "c67328dc",
   "metadata": {},
   "source": [
    "I added some code here that is called to create the overlay - basically the box around the objects and the labels above. You can customize it and/or add information you want to overlay on the camera feed."
   ]
  },
  {
   "cell_type": "code",
   "execution_count": 22,
   "id": "9a383051",
   "metadata": {},
   "outputs": [],
   "source": [
    "def svg_overlay(classes, frame_size):\n",
    "\n",
    "    width, height = frame_size\n",
    "    doc = svg.Svg(width=width, height=height)\n",
    "    doc.add(svg.Text(classes_info(classes), x=50, y=50, fill='white', font_size=50))\n",
    "    \n",
    "    return str(doc)"
   ]
  },
  {
   "cell_type": "code",
   "execution_count": 23,
   "id": "0e1ce740",
   "metadata": {},
   "outputs": [],
   "source": [
    "def classes_info(classes):\n",
    "    return '\\n'.join('%s (%.2f)' % pair for pair in classes)\n",
    "\n",
    "def classes_process(classes, threshold):\n",
    "    return [pair for pair in classes if pair[1] > threshold]"
   ]
  },
  {
   "cell_type": "markdown",
   "id": "9de67ca5",
   "metadata": {},
   "source": [
    "#### Main loop\n",
    "\n",
    "Here is our main loop. To watch the camera feed, you can connect to http://orcspi-vis.local:4664."
   ]
  },
  {
   "cell_type": "code",
   "execution_count": null,
   "id": "01f89e8d",
   "metadata": {},
   "outputs": [
    {
     "name": "stdout",
     "output_type": "stream",
     "text": [
      "crossword puzzle/crossword (0.51)\n"
     ]
    }
   ],
   "source": [
    "detection_threshhold = 0.5      # Confidence thresshold to list an object\n",
    "\n",
    "with contextlib.ExitStack() as stack:\n",
    "    leds   = stack.enter_context(Leds())\n",
    "    camera = stack.enter_context(PiCamera(sensor_mode=4, resolution=(820, 616)))\n",
    "    board  = stack.enter_context(Board())\n",
    "\n",
    "    # This starts and runs the streaming of the camera\n",
    "    server = stack.enter_context(StreamingServer(camera))  \n",
    "\n",
    "    # Sets what should happen when button is pressed\n",
    "   # board.button.when_pressed = match_reset\n",
    "    \n",
    "    print (\"Loading model - hold on ..\")\n",
    "    \n",
    "    \n",
    "    # Do inference on VisionBonnet\n",
    "    with CameraInference(image_classification.model()) as inference:\n",
    "        \n",
    "        try:   \n",
    "            for result in inference.run():\n",
    "                leds.update(Leds.rgb_on(Color.RED))\n",
    "                classes = image_classification.get_classes(result, top_k=5)\n",
    "                topclasses = classes_process(classes, detection_threshhold)\n",
    "\n",
    "                if(len(topclasses)>0):\n",
    "                    clear_output(wait=True)\n",
    "                    leds.update(Leds.rgb_on(Color.BLUE))\n",
    "                    print(classes_info(topclasses))\n",
    "                    server.send_overlay(svg_overlay(topclasses, (result.width, result.height)))\n",
    "                                                                                 \n",
    "        except KeyboardInterrupt:\n",
    "            print(\"Interrupted ..\")\n",
    "            \n",
    "    leds.update(Leds.rgb_off())    \n",
    "    print(\"Done\")"
   ]
  },
  {
   "cell_type": "code",
   "execution_count": null,
   "id": "8ba369ea",
   "metadata": {},
   "outputs": [],
   "source": []
  },
  {
   "cell_type": "code",
   "execution_count": null,
   "id": "0fd1edd4",
   "metadata": {},
   "outputs": [],
   "source": []
  }
 ],
 "metadata": {
  "kernelspec": {
   "display_name": "Python 3 (ipykernel)",
   "language": "python",
   "name": "python3"
  },
  "language_info": {
   "codemirror_mode": {
    "name": "ipython",
    "version": 3
   },
   "file_extension": ".py",
   "mimetype": "text/x-python",
   "name": "python",
   "nbconvert_exporter": "python",
   "pygments_lexer": "ipython3",
   "version": "3.7.3"
  }
 },
 "nbformat": 4,
 "nbformat_minor": 5
}
