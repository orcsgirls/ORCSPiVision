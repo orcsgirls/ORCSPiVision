{
  "nbformat": 4,
  "nbformat_minor": 0,
  "metadata": {
    "colab": {
      "name": "ObjectOrientedDemo.ipynb",
      "private_outputs": true,
      "provenance": [],
      "authorship_tag": "ABX9TyPYWtK+bNOs07W4HaT0apeM",
      "include_colab_link": true
    },
    "kernelspec": {
      "name": "python3",
      "display_name": "Python 3"
    },
    "language_info": {
      "name": "python"
    }
  },
  "cells": [
    {
      "cell_type": "markdown",
      "source": [
        "# Objects in Python\n",
        "\n",
        "So what are object oriented programming? Here is what [Wikipedia](https://en.wikipedia.org/wiki/Object-oriented_programming) says:\n",
        "\n",
        "*Object-oriented programming (OOP) is a programming paradigm based on the concept of \"objects\", which can contain data and code: data in the form of fields (often known as attributes or properties), and code, in the form of procedures (often known as methods).*\n",
        "\n",
        "*A feature of objects is that an object's own procedures can access and often modify the data fields of itself (objects have a notion of this or self). In OOP, computer programs are designed by making them out of objects that interact with one another. OOP languages are diverse, but the most popular ones are class-based, meaning that objects are instances of classes, which also determine their types.* \n",
        "\n",
        "**Let's try it.**\n"
      ],
      "metadata": {
        "id": "jbn0SIoS173R"
      }
    },
    {
      "cell_type": "markdown",
      "source": [
        "#### Classes\n",
        "\n",
        "YOu can think of classes as a template for objects. Below we define a simple class we want to use for our pet store. Note the special methods `__init__`, `__enter__` and `__exit__` which is called when we instantiate the class (we see that later)."
      ],
      "metadata": {
        "id": "jYc7JcOOUnwK"
      }
    },
    {
      "cell_type": "code",
      "source": [
        "class Pet:\n",
        "  status = 'Happy'\n",
        "\n",
        "  def info(self):\n",
        "    formstr = \"{name}\\n-------------\\nAge   : {age: .0f}\\nBreed : {breed}\\nStatus: {status}\"\n",
        "    print (formstr.format(name=self.name, age=self.age, breed=self.breed, status=self.status))\n",
        "\n",
        "  def __init__(self, name, age, breed):\n",
        "        self.name = name\n",
        "        self.age = age\n",
        "        self.breed = breed\n",
        "        print (self.name, ' - Init called ..')\n",
        "\n",
        "  def __enter__(self):\n",
        "      print (self.name, ' - Enter called ..')\n",
        "      return self\n",
        "\n",
        "  def __exit__(self, exception_type, exception_value, traceback):\n",
        "      print (self.name, ' - Exit called ..', exception_type)"
      ],
      "metadata": {
        "id": "yG_beGDwThx1"
      },
      "execution_count": null,
      "outputs": []
    },
    {
      "cell_type": "markdown",
      "source": [
        "Our Pet class needs three things when we instantiate it: `name`, `age` and `breed`. Note the variable `self`, this refers to the instantiated object itself. We also have status as an attribute (variable) and a method `info` in addition to `__init__`, `__enter__` and `__exit__`. So let us use it."
      ],
      "metadata": {
        "id": "c2Jv9MHsWhvR"
      }
    },
    {
      "cell_type": "code",
      "source": [
        "# Create an instance of the class\n",
        "fluffy = Pet('Fluffy',2,'Dog')"
      ],
      "metadata": {
        "id": "WaDPsSDmXHuf"
      },
      "execution_count": null,
      "outputs": []
    },
    {
      "cell_type": "markdown",
      "source": [
        "Now that we have a fluffy object, let's use it."
      ],
      "metadata": {
        "id": "WP_KKInvXab0"
      }
    },
    {
      "cell_type": "code",
      "source": [
        "fluffy.info()"
      ],
      "metadata": {
        "id": "ircmxqHBXh5s"
      },
      "execution_count": null,
      "outputs": []
    },
    {
      "cell_type": "code",
      "source": [
        "print(fluffy.age)"
      ],
      "metadata": {
        "id": "MZCblcpAYfaU"
      },
      "execution_count": null,
      "outputs": []
    },
    {
      "cell_type": "code",
      "source": [
        "fluffy.age = fluffy.age + 1    # Happy birthday\n",
        "print(fluffy.age)"
      ],
      "metadata": {
        "id": "R0VwrtWpYn0F"
      },
      "execution_count": null,
      "outputs": []
    },
    {
      "cell_type": "code",
      "source": [
        "## Add your code here"
      ],
      "metadata": {
        "id": "Dwqmei4KceuS"
      },
      "execution_count": null,
      "outputs": []
    },
    {
      "cell_type": "markdown",
      "source": [
        "#### Inheritance\n",
        "\n",
        "One cool thing is that you can create a class that inherits from a parent class. Here we make a class Dog that inherits from the Pet class. This way all attributes and methods from Pet are availabe. We can choose to overwrite them. Also note we can call the methods of the parent - here `Pet.__init__`."
      ],
      "metadata": {
        "id": "E9tH258qauc7"
      }
    },
    {
      "cell_type": "code",
      "source": [
        "class Dog(Pet):\n",
        "\n",
        "  def bark(self):\n",
        "    print('Woof Woof')\n",
        "\n",
        "  def __init__(self, name, age):\n",
        "      Pet.__init__(self, name, age, 'Dog')\n"
      ],
      "metadata": {
        "id": "8cCebqDGa7US"
      },
      "execution_count": null,
      "outputs": []
    },
    {
      "cell_type": "markdown",
      "source": [
        "Let's try it out."
      ],
      "metadata": {
        "id": "F3OlaesFcZ5R"
      }
    },
    {
      "cell_type": "code",
      "source": [
        "doggo = Dog('Doggo',1)"
      ],
      "metadata": {
        "id": "m-pmMe38bR3_"
      },
      "execution_count": null,
      "outputs": []
    },
    {
      "cell_type": "code",
      "source": [
        "doggo.bark()"
      ],
      "metadata": {
        "id": "dCaDtmQAbehK"
      },
      "execution_count": null,
      "outputs": []
    },
    {
      "cell_type": "code",
      "source": [
        "## Add your code here"
      ],
      "metadata": {
        "id": "YZzkUyPKclFZ"
      },
      "execution_count": null,
      "outputs": []
    },
    {
      "cell_type": "markdown",
      "source": [
        "#### Context\n",
        "\n",
        "Sometimes it is important to 'clean' up after an object is used. For example a file needs to be closed or the Raspberry Pi camera needs to be closed. While this can all be done manually (making code long and ugly), Python has nice methods to take care of cleaning up. In your class the routines `__init__`, `__enter__` and `__exit__` get called automatically and contain the code needed to e.g. close a file.\n",
        "\n",
        "The first way we are going to look at is the `with` statement. Make sure the code above defining the classes ran :)\n",
        "\n"
      ],
      "metadata": {
        "id": "UF7jHX8Qczl1"
      }
    },
    {
      "cell_type": "code",
      "source": [
        "with Dog('Fluffy', 2) as fluffy:\n",
        "  fluffy.age = fluffy.age + 1\n",
        "  fluffy.info()"
      ],
      "metadata": {
        "id": "N_0M1Pn0dzHH"
      },
      "execution_count": null,
      "outputs": []
    },
    {
      "cell_type": "markdown",
      "source": [
        "Observe how the `__enter__` and `__exit__` methods are called. You might have seen these `with` statements in some of the Raspberry Pi code we worked on. \n",
        "\n",
        "However, if you are using a lot of objects, using `with` statements can become messy. Next we will use a so called contect manager which 'remembers' all the exit routines it needs to run. Look at the code below."
      ],
      "metadata": {
        "id": "7Z8MolR5eKyw"
      }
    },
    {
      "cell_type": "code",
      "source": [
        "# Importing the library we need\n",
        "from contextlib import ExitStack"
      ],
      "metadata": {
        "id": "GyyGZkl6IxqQ"
      },
      "execution_count": null,
      "outputs": []
    },
    {
      "cell_type": "code",
      "source": [
        "with ExitStack() as stack:\n",
        "  fluffy = stack.enter_context(Dog('Fluffy', 1))\n",
        "  doggo  = stack.enter_context(Dog('Doggo', 2))\n",
        "\n",
        "  print(fluffy.name)\n",
        "  print(doggo.name)\n"
      ],
      "metadata": {
        "id": "eSTK_3E_7QYi"
      },
      "execution_count": null,
      "outputs": []
    },
    {
      "cell_type": "markdown",
      "source": [
        "Note the order in which enter and exit is called. It depends on the order of the `enter_context` commands. Switch them around if you like to verify."
      ],
      "metadata": {
        "id": "NgYhWx_vey0f"
      }
    },
    {
      "cell_type": "code",
      "source": [
        ""
      ],
      "metadata": {
        "id": "X9j55u-s97xR"
      },
      "execution_count": null,
      "outputs": []
    }
  ]
}